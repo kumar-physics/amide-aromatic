{
 "cells": [
  {
   "cell_type": "markdown",
   "metadata": {},
   "source": [
    "# Amide-aromatic interaction analysis using PDB and BMRB archives\n",
    "## Introduction\n",
    "The objective of the notebook is to understand the anomalous chemical shifts of amide protons as a result of hydrogen bond interaction between the amide proton  and the near by aromatic side-chain. For this study we are going to use the chemical shift information available in BMRB database (https://bmrb.io) and the geometric information available in wwPDB(http://www.wwpdb.org). \n",
    "\n",
    "### Quick overview of the steps\n",
    "\n",
    "* Find the matching BMRB and PDB Ids. This information is available via BMRB-API(http://api.bmrb.io/v2/mappings/bmrb/pdb?match_type=exact) and as well as BMRB-FTP (https://bmrb.io/ftp/pub/bmrb/nmr_pdb_integrated_data/adit_nmr_matched_pdb_bmrb_entry_ids.csv)\n",
    "* Extract the amide chemical shifts from the NMR-STAR file and calculate the Z-score\n",
    "* Extract the coordinate information from CIF file and calculate the distance between the amide proton and the center of the nearest aromatic ring, azimuthal angle and solid angle for each amide proton. \n",
    "* Combine the information from NMR-STAR(BMRB) and CIF(wwPDB) using atom identifier(seq_id,chain_id,residue,atom)\n",
    "* write the output as csv file\n",
    "* repeat the step for all matching PDB and BMRB ids. \n",
    "\n",
    "## Import the necessary python packages \n",
    "Please make sure you have installed all the necessary packages(pynmrstar,mmcif and numpy). For plotting you may need plotly and csv"
   ]
  },
  {
   "cell_type": "code",
   "execution_count": null,
   "metadata": {},
   "outputs": [],
   "source": [
    "import pynmrstar\n",
    "from mmcif.io.PdbxReader import PdbxReader\n",
    "import os\n",
    "import numpy\n",
    "import csv\n",
    "import gzip\n",
    "import plotly.express as px"
   ]
  },
  {
   "cell_type": "markdown",
   "metadata": {},
   "source": [
    "##  Extract chemical shift information and calculate the Z-score\n",
    "\n",
    "We are going to use the pynmrstr (https://pypi.org/project/pynmrstar/) package to parse the NMR-STAR file. The Z-score is calculated using mean and the standard deviation from the BMRB statistics (https://bmrb.io/ref_info/stats.php?restype=aa&set=filt)\n",
    "Let us first write a function to calculate the Z-score\n",
    "### Function to calculate Z-score"
   ]
  },
  {
   "cell_type": "code",
   "execution_count": null,
   "metadata": {},
   "outputs": [],
   "source": [
    "def get_z_score(res, x):\n",
    "    m = {'ALA':8.194,'ARG':8.234,'ASN':8.324,'ASP':8.300,'CYS':8.386,'GLN':8.219,'GLU':8.330,'GLY':8.330,\n",
    "         'HIS':8.247,'ILE':8.262,'LEU':8.215,'LYS':8.177,'MET':8.251,'PHE':8.335,'SER':8.277,'THR':8.232,\n",
    "         'TRP':8.264,'TYR':8.289,'VAL':8.270}\n",
    "    sd = {'ALA':0.577,'ARG':0.601,'ASN':0.610,'ASP':0.558,'CYS':0.670,'GLN':0.569,'GLU':0.576,'GLY':0.619,\n",
    "         'HIS':0.666,'ILE':0.674,'LEU':0.627,'LYS':0.589,'MET':0.575,'PHE':0.710,'SER':0.568,'THR':0.610,\n",
    "         'TRP':0.761,'TYR':0.721,'VAL':0.659}\n",
    "    try:\n",
    "        sp = (x-m[res])/sd[res]\n",
    "    except KeyError:\n",
    "        sp = 0.00\n",
    "    return round(sp,3)"
   ]
  },
  {
   "cell_type": "markdown",
   "metadata": {},
   "source": [
    "The above function will calculate the Z-score for a given amide proton chemical shift and residue type. For example"
   ]
  },
  {
   "cell_type": "code",
   "execution_count": null,
   "metadata": {},
   "outputs": [],
   "source": [
    "get_z_score('LEU',5.33)"
   ]
  },
  {
   "cell_type": "markdown",
   "metadata": {},
   "source": [
    "## Function to parse the chemical shift and calculate the Z-score\n",
    "First let us define aromatic residues and their atoms. "
   ]
  },
  {
   "cell_type": "code",
   "execution_count": null,
   "metadata": {},
   "outputs": [],
   "source": [
    "aromatic_atoms = {\n",
    "    'PHE': ['CG', 'CD1', 'CD2', 'CE1', 'CE2', 'CZ', 'HD1', 'HD2', 'HE1', 'HE2', 'HZ'],\n",
    "    'TYR': ['CG', 'CD1', 'CD2', 'CE1', 'CE2', 'CZ', 'HD1', 'HD2', 'HE1', 'HE2', 'HH'],\n",
    "    'TRP': ['CD2', 'CE2', 'CE3', 'CZ2', 'CZ3', 'CH2', 'HE3', 'HZ2', 'HZ3', 'HH2', 'HE1'],\n",
    "    'HIS': ['CG', 'ND1', 'CD2', 'CE1', 'NE2', 'HD1', 'HD2', 'HE1', 'HE2', 'xx', 'yy']  \n",
    "}"
   ]
  },
  {
   "cell_type": "markdown",
   "metadata": {},
   "source": [
    "We also extract the number of unique chains(entity) and the number of copies of the chain(assembly) from the NMR-STAR file. There are two kid of sequence numbering available in both BMRB and PDB. One is author provided and other one is BMRB/PDB annotated. We have the option to chose which sequence number we want to extract from the file. This is crucial in the later stage while we combining data from BMRB and PDB."
   ]
  },
  {
   "cell_type": "markdown",
   "metadata": {},
   "source": [
    "The following function will create chemical shift dictionary from the star file"
   ]
  },
  {
   "cell_type": "code",
   "execution_count": null,
   "metadata": {},
   "outputs": [],
   "source": [
    "def get_chemical_shifts(str_file,auth_tag=False):\n",
    "    str_data = pynmrstar.Entry.from_file(str_file)\n",
    "    csdata = str_data.get_loops_by_category('Atom_chem_shift')\n",
    "    entity = str_data.get_tag('_Entity_assembly.Entity_ID')\n",
    "    entity_size = len(set(entity))\n",
    "    assembly_size = (len(entity))\n",
    "    amide_cs = {}\n",
    "    aromatic_cs = {}\n",
    "    for cs in csdata:\n",
    "        tag_list = cs.get_tag_names()\n",
    "\n",
    "        id2 = tag_list.index('_Atom_chem_shift.Auth_asym_ID')\n",
    "        if auth_tag:\n",
    "            id1 = tag_list.index('_Atom_chem_shift.Auth_seq_ID')\n",
    "        else:\n",
    "            id1 = tag_list.index('_Atom_chem_shift.Comp_index_ID')\n",
    "        id3 = tag_list.index('_Atom_chem_shift.Comp_ID')\n",
    "        id4 = tag_list.index('_Atom_chem_shift.Atom_ID')\n",
    "        id5 = tag_list.index('_Atom_chem_shift.Val')\n",
    "        id6 = tag_list.index('_Atom_chem_shift.Ambiguity_code')\n",
    "        for d in cs.data:\n",
    "            if d[id4] == 'H':\n",
    "                if d[id2] == '.':\n",
    "                    d[id2] = 'A'  # temp fix if asym id is missing\n",
    "                amide_cs[(d[id1], d[id2], d[id3], d[id4])] = (d[id5],get_z_score(d[id3],float(d[id5])))\n",
    "            if d[id3] in aromatic_atoms.keys():\n",
    "                if d[id2] == '.':\n",
    "                    d[id2] = 'A'  # temp fix if asym id is missing\n",
    "                k = (d[id1], d[id2], d[id3])\n",
    "                if d[id4] in aromatic_atoms[d[id3]]:\n",
    "                    if k not in aromatic_cs.keys():\n",
    "                        aromatic_cs[k] = {}\n",
    "                    aromatic_cs[k][d[id4]] = (d[id5], d[id6])\n",
    "    return amide_cs, aromatic_cs, entity_size, assembly_size"
   ]
  },
  {
   "cell_type": "markdown",
   "metadata": {},
   "source": [
    "There are two ways one can get the required NMR-STAR file, either by directly downloading the file from BMRB or by using reboxitory in NMRBox. "
   ]
  },
  {
   "cell_type": "code",
   "execution_count": null,
   "metadata": {},
   "outputs": [],
   "source": [
    "def get_bmrb_data(bmrb_id,auth_tag = False, nmrbox=False):\n",
    "    if nmrbox:\n",
    "        str_file_path = '/reboxitory/2021/07/BMRB/macromolecules/bmr{}/bmr{}_3.str'.format(\n",
    "            bmrb_id,bmrb_id\n",
    "        )\n",
    "        bmrb_data = get_chemical_shifts(str_file_path, auth_tag)\n",
    "    else:\n",
    "        if not os.path.isdir('./data'):\n",
    "            os.system('mkdir ./data')\n",
    "        if not os.path.isdir('./data/BMRB'):\n",
    "            os.system('mkdir ./data/BMRB')\n",
    "        str_file = './data/BMRB/{}.str'.format(bmrb_id)\n",
    "        if not os.path.isfile(str_file):\n",
    "            cmd = 'wget http://rest.bmrb.io/bmrb/{}/nmr-star3 -O ./data/BMRB/{}.str'.format(bmrb_id, bmrb_id)\n",
    "            os.system(cmd)\n",
    "        bmrb_data = get_chemical_shifts('./data/BMRB/{}.str'.format(bmrb_id),auth_tag)\n",
    "    return bmrb_data"
   ]
  },
  {
   "cell_type": "markdown",
   "metadata": {},
   "source": [
    "For example let us fetch the chemical shift information for the BMRB entry  11086"
   ]
  },
  {
   "cell_type": "code",
   "execution_count": null,
   "metadata": {},
   "outputs": [],
   "source": [
    "bmrb_data = get_bmrb_data('11086')"
   ]
  },
  {
   "cell_type": "code",
   "execution_count": null,
   "metadata": {},
   "outputs": [],
   "source": [
    "amide_cs,aromatic_cs,entity_size,assembly_size = bmrb_data"
   ]
  },
  {
   "cell_type": "markdown",
   "metadata": {},
   "source": [
    "Now we have all the required information in a dictionary format"
   ]
  },
  {
   "cell_type": "code",
   "execution_count": null,
   "metadata": {},
   "outputs": [],
   "source": [
    "amide_cs"
   ]
  },
  {
   "cell_type": "code",
   "execution_count": null,
   "metadata": {},
   "outputs": [],
   "source": [
    "aromatic_cs"
   ]
  },
  {
   "cell_type": "code",
   "execution_count": null,
   "metadata": {},
   "outputs": [],
   "source": [
    "entity_size"
   ]
  },
  {
   "cell_type": "code",
   "execution_count": null,
   "metadata": {},
   "outputs": [],
   "source": [
    "assembly_size"
   ]
  },
  {
   "cell_type": "markdown",
   "metadata": {},
   "source": [
    "## Extract coordinate data from CIF file\n",
    "We use mmcif library to parse the CIF file. The following function will parse the CIF file and extract the coordinate information as a dictionary"
   ]
  },
  {
   "cell_type": "code",
   "execution_count": null,
   "metadata": {},
   "outputs": [],
   "source": [
    "\n",
    "def get_coordinates(cif_file, use_auth_tag=True, gzfile = False):\n",
    "    \"\"\"\n",
    "    Extract coordinate information from cif file as a dictionary\n",
    "    {model_id : {(seq_id,chain_id,res_id,atom_id) : array[x,y,x],...},...}\n",
    "    :param cif_file: Input coordinate file\n",
    "    :return: dictionary\n",
    "    \"\"\"\n",
    "    cif_data = []\n",
    "    if gzfile:\n",
    "        ifh = gzip.open(cif_file,'rt') # For NMRBox\n",
    "    else:\n",
    "        ifh = open(cif_file, 'r')\n",
    "    pRd = PdbxReader(ifh)\n",
    "    pRd.read(cif_data)\n",
    "    ifh.close()\n",
    "    c0 = cif_data[0]\n",
    "    atom_site = c0.getObj('atom_site')\n",
    "    max_models = int(atom_site.getValue('pdbx_PDB_model_num', -1))\n",
    "    col_names = atom_site.getAttributeList()\n",
    "    model_id = col_names.index('pdbx_PDB_model_num')\n",
    "    x_id = col_names.index('Cartn_x')\n",
    "    y_id = col_names.index('Cartn_y')\n",
    "    z_id = col_names.index('Cartn_z')\n",
    "    atom_id = col_names.index('label_atom_id')\n",
    "    comp_id = col_names.index('label_comp_id')\n",
    "    asym_id = col_names.index('label_asym_id')\n",
    "    entity_id = col_names.index('label_entity_id')\n",
    "    seq_id = col_names.index('label_seq_id')\n",
    "    icode_id = col_names.index('pdbx_PDB_ins_code')\n",
    "    alt_id = col_names.index('label_alt_id')\n",
    "    aut_seq_id = col_names.index('auth_seq_id')\n",
    "    aut_asym_id = col_names.index('auth_asym_id')\n",
    "    aut_atom_id = col_names.index('auth_atom_id')\n",
    "    aut_comp_id = col_names.index('auth_comp_id')\n",
    "    pdb_models = {}\n",
    "    atom_ids = {}\n",
    "    for model in range(1, max_models + 1):\n",
    "        pdb = {}\n",
    "        aid = {}\n",
    "        for dat in atom_site.getRowList():\n",
    "            if dat[atom_id] == 'H' or dat[comp_id] in aromatic_atoms.keys():  # Only necessary coordinates for this\n",
    "                # calculation\n",
    "                if int(dat[model_id]) == model:\n",
    "                    if use_auth_tag:\n",
    "                        aid[(dat[aut_seq_id], dat[aut_asym_id], dat[aut_comp_id], dat[aut_atom_id])] = \\\n",
    "                            (dat[entity_id], dat[asym_id], dat[comp_id], dat[seq_id], dat[aut_seq_id],\n",
    "                             dat[alt_id], dat[icode_id], dat[aut_asym_id])\n",
    "                        pdb[(dat[aut_seq_id], dat[aut_asym_id], dat[aut_comp_id], dat[aut_atom_id])] = \\\n",
    "                            numpy.array([float(dat[x_id]), float(dat[y_id]), float(dat[z_id])])\n",
    "                    else:\n",
    "                        aid[(dat[seq_id], dat[asym_id], dat[comp_id], dat[atom_id])] = \\\n",
    "                            (dat[entity_id], dat[asym_id], dat[comp_id], dat[seq_id], dat[aut_seq_id],\n",
    "                             dat[alt_id], dat[icode_id], dat[aut_asym_id])\n",
    "                        pdb[(dat[seq_id], dat[asym_id], dat[comp_id], dat[atom_id])] = \\\n",
    "                            numpy.array([float(dat[x_id]), float(dat[y_id]), float(dat[z_id])])\n",
    "        pdb_models[model] = pdb\n",
    "        atom_ids[model] = aid\n",
    "    return pdb_models\n"
   ]
  },
  {
   "cell_type": "markdown",
   "metadata": {},
   "source": [
    "As before, we can either fetch the CIF file from wwPDB FTP archive or use the reboxitory in NMRBox"
   ]
  },
  {
   "cell_type": "code",
   "execution_count": null,
   "metadata": {},
   "outputs": [],
   "source": [
    "\n",
    "def get_pdb_data(pdb_id, auth_tag=False, nmrbox=False):\n",
    "    if nmrbox:\n",
    "        cif_file_path = '/reboxitory/2021/07/PDB/data/structures/all/mmCIF/{}.cif.gz'.format(pdb_id.lower())\n",
    "        pdb_data = get_coordinates(cif_file_path,auth_tag,gzfile=True)\n",
    "    else:\n",
    "        if not os.path.isdir('./data'):\n",
    "            os.system('mkdir ./data')\n",
    "        if not os.path.isdir('./data/PDB'):\n",
    "            os.system('mkdir ./data/PDB')\n",
    "        cif_file = './data/PDB/{}.cif'.format(pdb_id)\n",
    "        if not os.path.isfile(cif_file):\n",
    "            cmd = 'wget https://files.rcsb.org/download/{}.cif -O ./data/PDB/{}.cif'.format(pdb_id, pdb_id)\n",
    "            os.system(cmd)\n",
    "        pdb_data = get_coordinates('./data/PDB/{}.cif'.format(pdb_id),auth_tag)\n",
    "    return pdb_data"
   ]
  },
  {
   "cell_type": "markdown",
   "metadata": {},
   "source": [
    "For example let us extract the coordinate data for PDB 1WYO"
   ]
  },
  {
   "cell_type": "code",
   "execution_count": null,
   "metadata": {},
   "outputs": [],
   "source": [
    "pdb_data = get_pdb_data('1WYO')"
   ]
  },
  {
   "cell_type": "markdown",
   "metadata": {},
   "source": [
    "Now we have coordinate data in a dictionary format  {model_id:{atom_identifier:array(x,y,z)}}"
   ]
  },
  {
   "cell_type": "code",
   "execution_count": null,
   "metadata": {},
   "outputs": [],
   "source": [
    "pdb_data"
   ]
  },
  {
   "cell_type": "markdown",
   "metadata": {},
   "source": [
    "## Calculate the distance, azimuthal angle and solid angle\n",
    "\n",
    "Before we begin, let us define some useful functions\n",
    "### Distance between two points in space"
   ]
  },
  {
   "cell_type": "code",
   "execution_count": null,
   "metadata": {},
   "outputs": [],
   "source": [
    "\n",
    "def get_distance(c1, c2):\n",
    "    \"\"\"\n",
    "    Calculates the distance between two coordinate points\n",
    "    :param c1: array of x,y,z\n",
    "    :param c2: array of x,y,z\n",
    "    :return: distance between two ponts\n",
    "    \"\"\"\n",
    "    return numpy.linalg.norm(c1 - c2)"
   ]
  },
  {
   "cell_type": "markdown",
   "metadata": {},
   "source": [
    "### Centroid of given set of points in a plane"
   ]
  },
  {
   "cell_type": "code",
   "execution_count": null,
   "metadata": {},
   "outputs": [],
   "source": [
    "def get_centroid(p):\n",
    "    # print (len(p),p)\n",
    "    x = [i[0] for i in p]\n",
    "    y = [i[1] for i in p]\n",
    "    z = [i[2] for i in p]\n",
    "    c = [sum(x) / len(p), sum(y) / len(p), sum(z) / len(p)]\n",
    "    return numpy.array(c)\n"
   ]
  },
  {
   "cell_type": "markdown",
   "metadata": {},
   "source": [
    "### Solid angle for a given azimuthal angle at the distance"
   ]
  },
  {
   "cell_type": "code",
   "execution_count": null,
   "metadata": {},
   "outputs": [],
   "source": [
    "def solid_angle(a_deg, r):\n",
    "    s = 1.4 #C-C bond length\n",
    "    A=((3.0*numpy.sqrt(3))/2.0)*s*s #area of the hexagonal plane\n",
    "    a = (numpy.pi / 180) * a_deg\n",
    "    # sa2=2*numpy.pi*(1.0-1.0/(numpy.sqrt(1+(A*numpy.cos(a)/(numpy.pi*r1**r1)))))\n",
    "    sa = 2 * numpy.pi * (1.0 - 1.0 / (numpy.sqrt(1 + (A*numpy.cos(a) / (numpy.pi * r * r)))))\n",
    "    # print (a_deg)\n",
    "    sa_deg = (180.0 / numpy.pi) * sa\n",
    "    # sa_deg2 = (180.0 / numpy.pi) * sa2\n",
    "    # print (a_deg,sa_deg,sa_deg2)\n",
    "    return sa_deg"
   ]
  },
  {
   "cell_type": "markdown",
   "metadata": {},
   "source": [
    "### Azimithal anlge and solid angle "
   ]
  },
  {
   "cell_type": "code",
   "execution_count": null,
   "metadata": {},
   "outputs": [],
   "source": [
    "def find_angle( p, c, d):\n",
    "    pc,p = p\n",
    "    v1 = p[1] - pc\n",
    "    v2 = p[2] - pc\n",
    "    nv = numpy.cross(v1, v2)\n",
    "    cv = c - pc\n",
    "    nnv = nv / numpy.linalg.norm(nv)\n",
    "    ncv = cv / numpy.linalg.norm(cv)\n",
    "    dp = abs(numpy.dot(nnv, ncv))\n",
    "    ang = numpy.arccos(dp)\n",
    "    ang_deg = (180 / numpy.pi) * ang\n",
    "    s_ang = solid_angle(ang_deg, d)\n",
    "    return ang_deg, s_ang"
   ]
  },
  {
   "cell_type": "markdown",
   "metadata": {},
   "source": [
    "The following function extracts geometric information about aromatic residues from the pdb data"
   ]
  },
  {
   "cell_type": "code",
   "execution_count": null,
   "metadata": {},
   "outputs": [],
   "source": [
    "def get_aromatic_info(pdb_data):\n",
    "    aromatic_atoms = {\n",
    "        'PHE': ['CG', 'CD1', 'CD2', 'CE1', 'CE2', 'CZ', 'HD1', 'HD2', 'HE1', 'HE2', 'HZ'],\n",
    "        'TYR': ['CG', 'CD1', 'CD2', 'CE1', 'CE2', 'CZ', 'HD1', 'HD2', 'HE1', 'HE2', 'HH'],\n",
    "        'TRP': ['CD2', 'CE2', 'CE3', 'CZ2', 'CZ3', 'CH2', 'HE3', 'HZ2', 'HZ3', 'HH2', 'HE1'],\n",
    "        'HIS': ['CG', 'ND1', 'CD2', 'CE1', 'NE2', 'HD1', 'HD2', 'HE1', 'HE2', 'xx', 'yy']  # if needed un comment\n",
    "    }\n",
    "    ring_atoms = {\n",
    "        'PHE': ['CG', 'CD1', 'CD2', 'CE1', 'CE2', 'CZ'],\n",
    "        'TYR': ['CG', 'CD1', 'CD2', 'CE1', 'CE2', 'CZ'],\n",
    "        'TRP': ['CD2', 'CE2', 'CE3', 'CZ2', 'CZ3', 'CH2'],\n",
    "        'HIS': ['CG', 'ND1', 'CD2', 'CE1', 'NE2', ]  # if needed un comment\n",
    "    }\n",
    "    aromtic_residues = sorted(\n",
    "        list(set([(int(i[0]), i[1], i[2]) for i in pdb_data[1].keys() if i[2] in aromatic_atoms.keys()])))\n",
    "    ar_info = {}\n",
    "    for m in pdb_data.keys():\n",
    "        ar_info[m] = {}\n",
    "        for ar_res in aromtic_residues:\n",
    "            p = []\n",
    "            for atm in ring_atoms[ar_res[2]]:\n",
    "                p.append(pdb_data[m][(str(ar_res[0]), ar_res[1], ar_res[2], atm)])\n",
    "            c = get_centroid(p)\n",
    "            ar_info[m][(str(ar_res[0]), ar_res[1], ar_res[2])] = (c, p)\n",
    "    return ar_info\n"
   ]
  },
  {
   "cell_type": "code",
   "execution_count": null,
   "metadata": {},
   "outputs": [],
   "source": [
    "ar_info = get_aromatic_info(pdb_data)"
   ]
  },
  {
   "cell_type": "code",
   "execution_count": null,
   "metadata": {},
   "outputs": [],
   "source": [
    "ar_info"
   ]
  },
  {
   "cell_type": "markdown",
   "metadata": {},
   "source": [
    "The following function analyzes the NMR ensemble and calculates the mean, median, standard deviation, min and miximum of distance, azimithal angle and solid angle of the nearest aromatic ring. "
   ]
  },
  {
   "cell_type": "code",
   "execution_count": null,
   "metadata": {},
   "outputs": [],
   "source": [
    "\n",
    "def analyze_enzemble(ar_info,pdb_data):\n",
    "    amide_res = {}\n",
    "    for m in pdb_data.keys():\n",
    "        amide_res[m]={}\n",
    "        for atm in pdb_data[m].keys():\n",
    "            if atm[3]=='H':\n",
    "                amide_res[m][atm]=pdb_data[m][atm]\n",
    "    dist={}\n",
    "    angle={}\n",
    "    solid_angle={}\n",
    "    for atm in amide_res[1].keys():\n",
    "        dist[atm]={}\n",
    "        angle[atm]={}\n",
    "        solid_angle[atm]={}\n",
    "        for ar_res in ar_info[1].keys():\n",
    "            d=[]\n",
    "            a=[]\n",
    "            sa=[]\n",
    "            for m in amide_res.keys():\n",
    "                d1=get_distance(ar_info[m][ar_res][0],amide_res[m][atm])\n",
    "                d.append(d1)\n",
    "                ang = find_angle(ar_info[m][ar_res],amide_res[m][atm],d1)\n",
    "                a.append(ang[0])\n",
    "                sa.append(ang[1])\n",
    "            dist[atm][ar_res]=[round(numpy.mean(d),3),round(numpy.median(d),3),round(numpy.std(d),3),round(min(d),3),round(max(d),3)]\n",
    "            angle[atm][ar_res]=[round(numpy.mean(a),3),round(numpy.median(a),3),round(numpy.std(a),3),round(min(a),3),round(max(a),3)]\n",
    "            solid_angle[atm][ar_res]=[round(numpy.mean(sa),3),round(numpy.median(sa),3),round(numpy.std(sa),3),round(min(sa),3),round(max(sa),3)]\n",
    "    s_dist={}\n",
    "    for aa in dist.keys():\n",
    "        sorted_dist = sorted(dist[aa].items(), key=lambda kv: kv[1][0])\n",
    "        s_dist[aa]=sorted_dist\n",
    "    return s_dist,angle,solid_angle\n"
   ]
  },
  {
   "cell_type": "code",
   "execution_count": null,
   "metadata": {},
   "outputs": [],
   "source": [
    "sorted_dist,azi_angle,sold_angle=analyze_enzemble(ar_info,pdb_data)"
   ]
  },
  {
   "cell_type": "markdown",
   "metadata": {},
   "source": [
    "All the data in dictionary format and we try to maintain the same key throuout the analysis"
   ]
  },
  {
   "cell_type": "code",
   "execution_count": null,
   "metadata": {},
   "outputs": [],
   "source": [
    "sorted_dist"
   ]
  },
  {
   "cell_type": "code",
   "execution_count": null,
   "metadata": {},
   "outputs": [],
   "source": [
    "azi_angle"
   ]
  },
  {
   "cell_type": "code",
   "execution_count": null,
   "metadata": {},
   "outputs": [],
   "source": [
    "sold_angle"
   ]
  },
  {
   "cell_type": "markdown",
   "metadata": {},
   "source": [
    "## Combine the above steps and analyze the amide-aromatic interaction for a given pair of PDB and BMRB ids\n",
    "This is the final step in which we combine the information from two different database using atom identifier. As mentioned before, both data dictionaries are having same set of keys. First we find out which sequence numbering matches between the two files. Then information from both databases combined using matching sequence and atom identifier (dictionary keys) "
   ]
  },
  {
   "cell_type": "code",
   "execution_count": null,
   "metadata": {},
   "outputs": [],
   "source": [
    "\n",
    "def calculate_interaction(pdb,bmrb):\n",
    "    pdb_data_actual = get_pdb_data(pdb)\n",
    "    bmrb_data_actual = get_bmrb_data(bmrb)\n",
    "    pdb_data_auth = get_pdb_data(pdb)\n",
    "    bmrb_data_auth = get_bmrb_data(bmrb)\n",
    "    pdb_actual_keys = [i for i in pdb_data_actual[1].keys() if i[3] == 'H']\n",
    "    pdb_auth_keys = [i for i in pdb_data_auth[1].keys() if i[3] == 'H']\n",
    "    bmrb_actual_keys = [i for i in bmrb_data_actual[0].keys() if i[3]=='H']\n",
    "    bmrb_auth_keys = [i for i in bmrb_data_auth[0].keys() if i[3] == 'H']\n",
    "    actual_actual = [i for i in bmrb_actual_keys if i in pdb_actual_keys]\n",
    "    actual_auth = [i for i in bmrb_actual_keys if i in pdb_auth_keys]\n",
    "    auth_actual = [i for i in bmrb_auth_keys if i in pdb_actual_keys]\n",
    "    auth_auth= [i for i in bmrb_auth_keys if i in pdb_auth_keys]\n",
    "    if len(bmrb_actual_keys)>0:\n",
    "        seq_len = float(len(bmrb_actual_keys))\n",
    "        actual_actual_match = float(len(actual_actual))/seq_len\n",
    "        actual_auth_match = float(len(actual_auth))/seq_len\n",
    "        auth_actual_match = float(len(auth_actual))/seq_len\n",
    "        auth_auth_match = float(len(auth_auth))/seq_len\n",
    "        if actual_actual_match > 0.7:\n",
    "            pdb_data = pdb_data_actual\n",
    "            bmrb_data = bmrb_data_actual\n",
    "            tag_match = 'ORIG_ORIG'\n",
    "        elif actual_auth_match > 0.7:\n",
    "            pdb_data = pdb_data_auth\n",
    "            bmrb_data = bmrb_data_actual\n",
    "            tag_match = 'ORIG_AUTH'\n",
    "        elif auth_actual_match > 0.7:\n",
    "            pdb_data = pdb_data_actual\n",
    "            bmrb_data = bmrb_data_auth\n",
    "            tag_match = 'AUTH_ORIG'\n",
    "        elif auth_auth_match > 0.7:\n",
    "            pdb_data = pdb_data_auth\n",
    "            bmrb_data = bmrb_data_auth\n",
    "            tag_mathc = 'AUTH_AUTH'\n",
    "        else:\n",
    "            raise KeyError\n",
    "        amide_chemical_shift, aromatic_chemical_shift, entity_size, assembly_size = bmrb_data\n",
    "        ar_info = get_aromatic_info(pdb_data)\n",
    "        dist,angle,solid_angle = analyze_enzemble(ar_info,pdb_data)\n",
    "        if not os.path.isdir('./data'):\n",
    "            os.system('mkdir ./data')\n",
    "        if not os.path.isdir('./data/output'):\n",
    "            os.system('mkdir ./data/output')\n",
    "        fo_name = 'data/output/{}-{}-{}.csv'.format(pdb,bmrb,tag_match)\n",
    "        fo=open(fo_name,'w')\n",
    "        header = 'pdb_id,bmrb_id,entity_size,assembly_size,' \\\n",
    "                 'amide_seq_id,amide_chain_id,amide_res,amide_cs,amide_z,' \\\n",
    "                 'aro_seq_id,aro_chain_id,aro_res,' \\\n",
    "                 'mean_d,meidan_d,std_d,min_d,max_d,' \\\n",
    "                 'mena_ang,median_ang,std_and,min_ang,max_ang,' \\\n",
    "                 'mean_sang,median_sang,std_sang,min_sang,max_sang\\n'\n",
    "        fo.write(header)\n",
    "        for atm in amide_chemical_shift.keys():\n",
    "            # print (atm,amide_chemical_shift[atm],dist[atm][0],angle[atm][dist[atm][0][0]],\n",
    "            #        solid_angle[atm][dist[atm][0][0]] )\n",
    "            fo.write('{},{},{},{},{},{},{},{},{},{},{},{},{},{},{}\\n'.format(pdb,bmrb,\n",
    "                                                                             entity_size,assembly_size,\n",
    "                                                                             atm[0],atm[1],atm[2],\n",
    "                   amide_chemical_shift[atm][0],amide_chemical_shift[atm][1],\n",
    "                   dist[atm][0][0][0],dist[atm][0][0][1],dist[atm][0][0][2],\n",
    "                   ','.join([str(i) for i in dist[atm][0][1]]),\n",
    "                   ','.join([str(i) for i in angle[atm][dist[atm][0][0]]]),\n",
    "                   ','.join([str(i) for i in solid_angle[atm][dist[atm][0][0]]])))\n",
    "        fo.close()"
   ]
  },
  {
   "cell_type": "markdown",
   "metadata": {},
   "source": [
    "### Example : Alalysis of 1WYO and 11086"
   ]
  },
  {
   "cell_type": "code",
   "execution_count": null,
   "metadata": {},
   "outputs": [],
   "source": [
    "calculate_interaction('1WYO','11086')"
   ]
  },
  {
   "cell_type": "code",
   "execution_count": null,
   "metadata": {},
   "outputs": [],
   "source": [
    "cat data/output/1WYO-11086-ORIG_ORIG.csv"
   ]
  },
  {
   "cell_type": "markdown",
   "metadata": {},
   "source": [
    "## Plotting the results\n",
    "Here is some of the example plots from the csv file"
   ]
  },
  {
   "cell_type": "code",
   "execution_count": null,
   "metadata": {},
   "outputs": [],
   "source": [
    "def plot_d_vs_z(csv_file):\n",
    "    with open(csv_file, \"r\") as csvfile:\n",
    "        csvreader = csv.reader(csvfile)\n",
    "        next(csvreader, None)\n",
    "        z=[]\n",
    "        d=[]\n",
    "        ang=[]\n",
    "        sang=[]\n",
    "        lab=[]\n",
    "        ar_res=[]\n",
    "        for row in csvreader:\n",
    "            info = '{}-{}-{}-{}-{}-{}/{}/{}/{}'.format(row[0],row[1],row[5],row[6],row[9],row[11],row[7],row[8],row[12])\n",
    "            d.append(float(row[12]))\n",
    "            z.append(float(row[8]))\n",
    "            ang.append(float(row[17]))\n",
    "            sang.append(float(row[22]))\n",
    "            ar_res.append(row[11])\n",
    "            lab.append(info)\n",
    "    fig = px.scatter(x=d,y=z,color=ar_res,hover_name=lab,\n",
    "                     labels=dict(x='Distance (Å)', y='Z-score'),)\n",
    "    fig.show()\n",
    "\n",
    "def plot_azimuthal_vs_z(csv_file):\n",
    "    with open(csv_file, \"r\") as csvfile:\n",
    "        csvreader = csv.reader(csvfile)\n",
    "        next(csvreader, None)\n",
    "        z = []\n",
    "        d = []\n",
    "        ang = []\n",
    "        sang = []\n",
    "        lab = []\n",
    "        ar_res = []\n",
    "        for row in csvreader:\n",
    "            info = '{}-{}-{}-{}-{}-{}/{}/{}/{}'.format(row[0], row[1], row[5], row[6], row[9], row[11], row[7],\n",
    "                                                       row[8], row[12])\n",
    "            d.append(float(row[12]))\n",
    "            z.append(float(row[8]))\n",
    "            ang.append(float(row[17]))\n",
    "            sang.append(float(row[22]))\n",
    "            ar_res.append(row[11])\n",
    "            lab.append(info)\n",
    "    fig = px.scatter(x=ang, y=z, color=ar_res, hover_name=lab,\n",
    "                     labels=dict(x='Azimuthal angle', y='Z-score'), )\n",
    "    fig.show()\n",
    "\n",
    "def plot_solidangle_vs_z(csv_file):\n",
    "    with open(csv_file, \"r\") as csvfile:\n",
    "        csvreader = csv.reader(csvfile)\n",
    "        next(csvreader, None)\n",
    "        z = []\n",
    "        d = []\n",
    "        ang = []\n",
    "        sang = []\n",
    "        lab = []\n",
    "        ar_res = []\n",
    "        for row in csvreader:\n",
    "            info = '{}-{}-{}-{}-{}-{}/{}/{}/{}'.format(row[0], row[1], row[5], row[6], row[9], row[11], row[7],\n",
    "                                                       row[8], row[12])\n",
    "            d.append(float(row[12]))\n",
    "            z.append(float(row[8]))\n",
    "            ang.append(float(row[17]))\n",
    "            sang.append(float(row[22]))\n",
    "            ar_res.append(row[11])\n",
    "            lab.append(info)\n",
    "    fig = px.scatter(x=sang, y=z, color=ar_res, hover_name=lab,\n",
    "                     labels=dict(x='Solid angle', y='Z-score'), )\n",
    "    fig.show()\n",
    "def plot_d_vs_solidangle(csv_file):\n",
    "    with open(csv_file, \"r\") as csvfile:\n",
    "        csvreader = csv.reader(csvfile)\n",
    "        next(csvreader, None)\n",
    "        z=[]\n",
    "        d=[]\n",
    "        ang=[]\n",
    "        sang=[]\n",
    "        lab=[]\n",
    "        ar_res=[]\n",
    "        for row in csvreader:\n",
    "            info = '{}-{}-{}-{}-{}-{}/{}/{}/{}'.format(row[0],row[1],row[5],row[6],row[9],row[11],row[7],row[8],row[12])\n",
    "            d.append(float(row[12]))\n",
    "            z.append(float(row[8]))\n",
    "            ang.append(float(row[17]))\n",
    "            sang.append(float(row[22]))\n",
    "            ar_res.append(row[11])\n",
    "            lab.append(info)\n",
    "    fig = px.scatter(x=d,y=sang,color=ar_res,hover_name=lab,\n",
    "                     labels=dict(x='Distance (Å)', y='Solid angle'),)\n",
    "    fig.show()\n",
    "\n",
    "def plot_3d(csv_file):\n",
    "    with open(csv_file, \"r\") as csvfile:\n",
    "        csvreader = csv.reader(csvfile)\n",
    "        next(csvreader, None)\n",
    "        z = []\n",
    "        d = []\n",
    "        ang = []\n",
    "        sang = []\n",
    "        lab = []\n",
    "        ar_res = []\n",
    "        for row in csvreader:\n",
    "            info = '{}-{}-{}-{}-{}-{}/{}/{}/{}'.format(row[0], row[1], row[5], row[6], row[9], row[11], row[7],\n",
    "                                                       row[8], row[12])\n",
    "            d.append(float(row[12]))\n",
    "            z.append(float(row[8]))\n",
    "            ang.append(float(row[17]))\n",
    "            sang.append(float(row[22]))\n",
    "            ar_res.append(row[11])\n",
    "            lab.append(info)\n",
    "    fig = px.scatter_3d(x=d, y=ang, z=z, color=ar_res, hover_name=lab,\n",
    "                     labels=dict(x='Distance (Å)', z='Z-score', y='Azimuthal angle'), )\n",
    "    fig.show()\n"
   ]
  },
  {
   "cell_type": "code",
   "execution_count": null,
   "metadata": {},
   "outputs": [],
   "source": [
    "plot_d_vs_solidangle('data/output/1WYO-11086-ORIG_ORIG.csv')"
   ]
  },
  {
   "cell_type": "code",
   "execution_count": null,
   "metadata": {},
   "outputs": [],
   "source": [
    "plot_d_vs_z('data/output/1WYO-11086-ORIG_ORIG.csv')"
   ]
  },
  {
   "cell_type": "code",
   "execution_count": null,
   "metadata": {},
   "outputs": [],
   "source": [
    "plot_azimuthal_vs_z('data/output/1WYO-11086-ORIG_ORIG.csv')"
   ]
  },
  {
   "cell_type": "code",
   "execution_count": null,
   "metadata": {},
   "outputs": [],
   "source": [
    "plot_solidangle_vs_z('data/output/1WYO-11086-ORIG_ORIG.csv')"
   ]
  },
  {
   "cell_type": "code",
   "execution_count": null,
   "metadata": {},
   "outputs": [],
   "source": [
    "plot_3d('data/output/1WYO-11086-ORIG_ORIG.csv')"
   ]
  },
  {
   "cell_type": "markdown",
   "metadata": {},
   "source": [
    "## Database wide analysis\n",
    "We can generate the data for all matching PDB and BMRB entires and concatenate all the csv files. The above plotting functions can be used to analyze the concatenated csv file. "
   ]
  }
 ],
 "metadata": {
  "kernelspec": {
   "display_name": "Python 3",
   "language": "python",
   "name": "python3"
  },
  "language_info": {
   "codemirror_mode": {
    "name": "ipython",
    "version": 3
   },
   "file_extension": ".py",
   "mimetype": "text/x-python",
   "name": "python",
   "nbconvert_exporter": "python",
   "pygments_lexer": "ipython3",
   "version": "3.7.3"
  }
 },
 "nbformat": 4,
 "nbformat_minor": 2
}
